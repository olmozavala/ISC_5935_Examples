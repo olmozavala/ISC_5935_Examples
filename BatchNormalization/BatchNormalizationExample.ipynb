{
 "cells": [
  {
   "cell_type": "code",
   "execution_count": 1,
   "metadata": {
    "collapsed": false,
    "jupyter": {
     "outputs_hidden": false
    },
    "tags": []
   },
   "outputs": [
    {
     "name": "stdout",
     "output_type": "stream",
     "text": [
      "DenseModel: hidden_layers:1, neurons_per_layer:1, activation_hidden:relu, activation_output:linear\n",
      "Running on: cuda\n"
     ]
    }
   ],
   "source": [
    "%matplotlib inline\n",
    "%load_ext autoreload\n",
    "%autoreload 2\n",
    "import torch\n",
    "import torch.nn as nn\n",
    "from MyModels import DenseModel\n",
    "import ipywidgets as widgets\n",
    "from ipywidgets import interact, Layout\n",
    "from Training import training\n",
    "import numpy as np\n",
    "import matplotlib.pyplot as plt\n",
    "from IPython.display import clear_output\n",
    "import time\n",
    "\n",
    "device = \"cuda\" if torch.cuda.is_available() else \"cpu\"\n",
    "print(f\"Running on: {device}\")"
   ]
  },
  {
   "cell_type": "code",
   "execution_count": 2,
   "metadata": {
    "collapsed": false,
    "jupyter": {
     "outputs_hidden": false
    },
    "tags": []
   },
   "outputs": [],
   "source": [
    "def generate_data(obs_type='linear', error_size=2):\n",
    "    '''Generates data for linear, quadratic or harmonic function'''\n",
    "    x = torch.linspace(0, 2 * np.pi, 100)\n",
    "    if obs_type == 'linear':\n",
    "        m = 1*torch.rand(1) -1\n",
    "        b = 1*torch.rand(1) -1\n",
    "        y = x*m + b + torch.rand(x.shape)*error_size\n",
    "    elif obs_type == 'quadratic':\n",
    "        a = 2*torch.rand(1) -1\n",
    "        b = 2*torch.rand(1) -1\n",
    "        c = 2*torch.rand(1) -1\n",
    "        y =  a*x**2 + b*x + c + torch.rand(x.shape)*error_size\n",
    "    elif obs_type == 'harmonic':\n",
    "        a = 2 * torch.rand(1) - 1\n",
    "        b = 8 * torch.rand(1) - 1\n",
    "        c = 5 * torch.rand(1) - 1\n",
    "        d = 2 * torch.rand(1) - 1\n",
    "        y = a*x**2 + b*np.sin(x) + c*np.cos(3*x) + d + torch.rand(x.shape)*error_size \n",
    "    return x, y"
   ]
  },
  {
   "cell_type": "code",
   "execution_count": 3,
   "metadata": {
    "collapsed": false,
    "jupyter": {
     "outputs_hidden": false
    },
    "tags": []
   },
   "outputs": [
    {
     "data": {
      "image/png": "[encoded data removed]",
      "text/plain": [
       "<Figure size 640x480 with 1 Axes>"
      ]
     },
     "metadata": {},
     "output_type": "display_data"
    }
   ],
   "source": [
    "x, y = generate_data(obs_type='harmonic')\n",
    "plt.plot(x, y, '.')\n",
    "plt.title(\"Syntethic observations\")\n",
    "plt.show()"
   ]
  },
  {
   "cell_type": "code",
   "execution_count": 6,
   "metadata": {
    "collapsed": false,
    "jupyter": {
     "outputs_hidden": false
    },
    "tags": []
   },
   "outputs": [],
   "source": [
    "def plot_data(x, y, model, loss_history):\n",
    "    fig, axs = plt.subplots(1, 2, figsize=(10, 5))\n",
    "    # Left will plot the observations and current prediction\n",
    "    X = torch.reshape(x, (x.shape[0], 1)).to(device)\n",
    "    model_y = model(X).cpu().detach().numpy()\n",
    "    axs[0].plot(x, y, '.')\n",
    "    axs[0].plot(x, model_y, color='r')\n",
    "    axs[0].set_xlabel(\"x\")\n",
    "    axs[0].set_ylabel(\"y\")\n",
    "    axs[1].semilogy(range(len(loss_history)), loss_history, color='r')\n",
    "    axs[1].set_yscale(\"log\")\n",
    "    axs[1].set_xlabel(\"Epochs\")\n",
    "    axs[1].set_ylabel(\"MSE\")\n",
    "    plt.show()"
   ]
  },
  {
   "cell_type": "code",
   "execution_count": 8,
   "metadata": {
    "collapsed": false,
    "jupyter": {
     "outputs_hidden": false
    },
    "tags": []
   },
   "outputs": [
    {
     "data": {
      "application/vnd.jupyter.widget-view+json": {
       "model_id": "34cdcc6fabe9460db80b778f89533e2b",
       "version_major": 2,
       "version_minor": 0
      },
      "text/plain": [
       "interactive(children=(IntSlider(value=5, description='Hidden layers', max=20, min=1), IntSlider(value=20, desc…"
      ]
     },
     "metadata": {},
     "output_type": "display_data"
    }
   ],
   "source": [
    "@interact(hidden_layers=widgets.IntSlider(min=1, max=20, step=1, value=5,  description='Hidden layers'),\n",
    "            neurons_per_layer=widgets.IntSlider(min=1, max=100, step=1, value=20, layout=Layout(width='500px'), description='Neurons HLayers'),\n",
    "            activation_hidden=widgets.Dropdown(options=['relu', 'sigmoid', 'tanh', 'linear'], value='relu', layout=Layout(width='500px'), description='Act. Hidden'),\n",
    "            epochs=widgets.IntSlider(min=100, max=2000, step=100, value=500, layout=Layout(width='500px'), description='Epochs'),\n",
    "            activation_output=widgets.Dropdown(options=['relu', 'sigmoid', 'tanh', 'linear'], value='linear', description='Act. Output'),\n",
    "            batch_norm_str=widgets.Dropdown(options=['With', 'Without'], value='With', description='Batch Norm'))\n",
    "def NN_TestBed(hidden_layers=1, neurons_per_layer=1, epochs=500, activation_hidden='relu', activation_output='linear', batch_norm_str='With'):\n",
    "    \n",
    "    button = widgets.Button(description=\"Start Training!\")\n",
    "    output = widgets.Output()\n",
    "\n",
    "    def on_button_click(b):\n",
    "        with output:\n",
    "            clear_output(wait=True)\n",
    "            print(\"Training...\")\n",
    "            batch_norm = True if batch_norm_str == 'With' else False\n",
    "            model = DenseModel(hidden_layers, neurons_per_layer, activation_hidden, activation_output, batch_norm).to(device)\n",
    "            print(\"Total number of parameters: \", sum(p.numel() for p in model.parameters() if p.requires_grad))\n",
    "\n",
    "            t = time.time()\n",
    "            loss_history, trained_model = training(loss=nn.MSELoss(), optimizer=torch.optim.Adam(model.parameters(), lr=0.01),\n",
    "                                                   model=model, epochs=epochs, x=x, y=y, device=device)\n",
    "\n",
    "            print(f\"Done! Time:{(time.time() - t):0.2f} seg\")\n",
    "            print(f\"Last loss: {loss_history[-1]:0.2f}\")\n",
    "            plot_data(x, y, trained_model, loss_history)\n",
    "            del model\n",
    "            \n",
    "    button.on_click(on_button_click)\n",
    "    display(button)\n",
    "    display(output)"
   ]
  },
  {
   "cell_type": "code",
   "execution_count": null,
   "metadata": {},
   "outputs": [],
   "source": []
  }
 ],
 "metadata": {
  "kernelspec": {
   "display_name": "Python 3 (ipykernel)",
   "language": "python",
   "name": "python3"
  },
  "language_info": {
   "codemirror_mode": {
    "name": "ipython",
    "version": 3
   },
   "file_extension": ".py",
   "mimetype": "text/x-python",
   "name": "python",
   "nbconvert_exporter": "python",
   "pygments_lexer": "ipython3",
   "version": "3.10.9"
  }
 },
 "nbformat": 4,
 "nbformat_minor": 4
}
